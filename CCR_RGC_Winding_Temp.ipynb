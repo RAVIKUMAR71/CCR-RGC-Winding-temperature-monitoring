{
  "nbformat": 4,
  "nbformat_minor": 0,
  "metadata": {
    "colab": {
      "name": "CCR RGC Winding Temp.ipynb",
      "provenance": []
    },
    "kernelspec": {
      "name": "python3",
      "display_name": "Python 3"
    }
  },
  "cells": [
    {
      "cell_type": "code",
      "metadata": {
        "colab": {
          "base_uri": "https://localhost:8080/"
        },
        "id": "lN-TTrEWTlwj",
        "outputId": "8a30ba5e-adc6-4382-9661-7a91ceeadd88"
      },
      "source": [
        "import numpy as np\n",
        "import pandas as pd\n",
        "import matplotlib.pyplot as plt\n",
        "import statsmodels.api as sm\n",
        "import seaborn as sns\n",
        "sns.set()"
      ],
      "execution_count": null,
      "outputs": [
        {
          "output_type": "stream",
          "text": [
            "/usr/local/lib/python3.7/dist-packages/statsmodels/tools/_testing.py:19: FutureWarning: pandas.util.testing is deprecated. Use the functions in the public API at pandas.testing instead.\n",
            "  import pandas.util.testing as tm\n"
          ],
          "name": "stderr"
        }
      ]
    },
    {
      "cell_type": "code",
      "metadata": {
        "id": "Z94GJgeXUJ00"
      },
      "source": [
        "data = pd.read_csv('CCR RGC Winding Temp.csv')"
      ],
      "execution_count": null,
      "outputs": []
    },
    {
      "cell_type": "code",
      "metadata": {
        "colab": {
          "base_uri": "https://localhost:8080/",
          "height": 419
        },
        "id": "oZSH-cuTUY1S",
        "outputId": "ac68721a-a7a1-4633-d2aa-528f6f3d5380"
      },
      "source": [
        "data"
      ],
      "execution_count": null,
      "outputs": [
        {
          "output_type": "execute_result",
          "data": {
            "text/html": [
              "<div>\n",
              "<style scoped>\n",
              "    .dataframe tbody tr th:only-of-type {\n",
              "        vertical-align: middle;\n",
              "    }\n",
              "\n",
              "    .dataframe tbody tr th {\n",
              "        vertical-align: top;\n",
              "    }\n",
              "\n",
              "    .dataframe thead th {\n",
              "        text-align: right;\n",
              "    }\n",
              "</style>\n",
              "<table border=\"1\" class=\"dataframe\">\n",
              "  <thead>\n",
              "    <tr style=\"text-align: right;\">\n",
              "      <th></th>\n",
              "      <th>RGC Amps</th>\n",
              "      <th>Winding temp</th>\n",
              "    </tr>\n",
              "  </thead>\n",
              "  <tbody>\n",
              "    <tr>\n",
              "      <th>0</th>\n",
              "      <td>646.487</td>\n",
              "      <td>76.478</td>\n",
              "    </tr>\n",
              "    <tr>\n",
              "      <th>1</th>\n",
              "      <td>646.406</td>\n",
              "      <td>77.521</td>\n",
              "    </tr>\n",
              "    <tr>\n",
              "      <th>2</th>\n",
              "      <td>642.482</td>\n",
              "      <td>77.000</td>\n",
              "    </tr>\n",
              "    <tr>\n",
              "      <th>3</th>\n",
              "      <td>651.740</td>\n",
              "      <td>76.000</td>\n",
              "    </tr>\n",
              "    <tr>\n",
              "      <th>4</th>\n",
              "      <td>660.473</td>\n",
              "      <td>78.000</td>\n",
              "    </tr>\n",
              "    <tr>\n",
              "      <th>...</th>\n",
              "      <td>...</td>\n",
              "      <td>...</td>\n",
              "    </tr>\n",
              "    <tr>\n",
              "      <th>5203</th>\n",
              "      <td>557.455</td>\n",
              "      <td>64.000</td>\n",
              "    </tr>\n",
              "    <tr>\n",
              "      <th>5204</th>\n",
              "      <td>556.654</td>\n",
              "      <td>64.483</td>\n",
              "    </tr>\n",
              "    <tr>\n",
              "      <th>5205</th>\n",
              "      <td>561.138</td>\n",
              "      <td>64.000</td>\n",
              "    </tr>\n",
              "    <tr>\n",
              "      <th>5206</th>\n",
              "      <td>562.083</td>\n",
              "      <td>64.000</td>\n",
              "    </tr>\n",
              "    <tr>\n",
              "      <th>5207</th>\n",
              "      <td>561.802</td>\n",
              "      <td>64.000</td>\n",
              "    </tr>\n",
              "  </tbody>\n",
              "</table>\n",
              "<p>5208 rows × 2 columns</p>\n",
              "</div>"
            ],
            "text/plain": [
              "      RGC Amps  Winding temp\n",
              "0      646.487        76.478\n",
              "1      646.406        77.521\n",
              "2      642.482        77.000\n",
              "3      651.740        76.000\n",
              "4      660.473        78.000\n",
              "...        ...           ...\n",
              "5203   557.455        64.000\n",
              "5204   556.654        64.483\n",
              "5205   561.138        64.000\n",
              "5206   562.083        64.000\n",
              "5207   561.802        64.000\n",
              "\n",
              "[5208 rows x 2 columns]"
            ]
          },
          "metadata": {
            "tags": []
          },
          "execution_count": 3
        }
      ]
    },
    {
      "cell_type": "code",
      "metadata": {
        "colab": {
          "base_uri": "https://localhost:8080/",
          "height": 297
        },
        "id": "e2DLAnrgUlUl",
        "outputId": "465139a4-a9c5-4eba-bee0-d8553343f226"
      },
      "source": [
        "data.describe()"
      ],
      "execution_count": null,
      "outputs": [
        {
          "output_type": "execute_result",
          "data": {
            "text/html": [
              "<div>\n",
              "<style scoped>\n",
              "    .dataframe tbody tr th:only-of-type {\n",
              "        vertical-align: middle;\n",
              "    }\n",
              "\n",
              "    .dataframe tbody tr th {\n",
              "        vertical-align: top;\n",
              "    }\n",
              "\n",
              "    .dataframe thead th {\n",
              "        text-align: right;\n",
              "    }\n",
              "</style>\n",
              "<table border=\"1\" class=\"dataframe\">\n",
              "  <thead>\n",
              "    <tr style=\"text-align: right;\">\n",
              "      <th></th>\n",
              "      <th>RGC Amps</th>\n",
              "      <th>Winding temp</th>\n",
              "    </tr>\n",
              "  </thead>\n",
              "  <tbody>\n",
              "    <tr>\n",
              "      <th>count</th>\n",
              "      <td>5208.000000</td>\n",
              "      <td>5208.000000</td>\n",
              "    </tr>\n",
              "    <tr>\n",
              "      <th>mean</th>\n",
              "      <td>627.230031</td>\n",
              "      <td>74.726814</td>\n",
              "    </tr>\n",
              "    <tr>\n",
              "      <th>std</th>\n",
              "      <td>38.097554</td>\n",
              "      <td>5.162917</td>\n",
              "    </tr>\n",
              "    <tr>\n",
              "      <th>min</th>\n",
              "      <td>518.976000</td>\n",
              "      <td>63.000000</td>\n",
              "    </tr>\n",
              "    <tr>\n",
              "      <th>25%</th>\n",
              "      <td>595.317500</td>\n",
              "      <td>71.047750</td>\n",
              "    </tr>\n",
              "    <tr>\n",
              "      <th>50%</th>\n",
              "      <td>632.114000</td>\n",
              "      <td>74.000000</td>\n",
              "    </tr>\n",
              "    <tr>\n",
              "      <th>75%</th>\n",
              "      <td>657.912500</td>\n",
              "      <td>77.935750</td>\n",
              "    </tr>\n",
              "    <tr>\n",
              "      <th>max</th>\n",
              "      <td>708.409000</td>\n",
              "      <td>92.953000</td>\n",
              "    </tr>\n",
              "  </tbody>\n",
              "</table>\n",
              "</div>"
            ],
            "text/plain": [
              "          RGC Amps  Winding temp\n",
              "count  5208.000000   5208.000000\n",
              "mean    627.230031     74.726814\n",
              "std      38.097554      5.162917\n",
              "min     518.976000     63.000000\n",
              "25%     595.317500     71.047750\n",
              "50%     632.114000     74.000000\n",
              "75%     657.912500     77.935750\n",
              "max     708.409000     92.953000"
            ]
          },
          "metadata": {
            "tags": []
          },
          "execution_count": 4
        }
      ]
    },
    {
      "cell_type": "code",
      "metadata": {
        "id": "RWJpElAuUokT"
      },
      "source": [
        "y = data['Winding temp']\n",
        "x1 = data['RGC Amps']"
      ],
      "execution_count": null,
      "outputs": []
    },
    {
      "cell_type": "code",
      "metadata": {
        "colab": {
          "base_uri": "https://localhost:8080/",
          "height": 282
        },
        "id": "na-J1uqlU-Di",
        "outputId": "b62b8d83-d4fb-404a-df19-e8b2b9363345"
      },
      "source": [
        "plt.scatter(x1, y)\n",
        "plt.xlabel('RGC Amps', fontsize = 10)\n",
        "plt.ylabel('Winding temp', fontsize = 10)\n",
        "plt.show()"
      ],
      "execution_count": null,
      "outputs": [
        {
          "output_type": "display_data",
          "data": {
            "image/png": "[encoded data removed]",
            "text/plain": [
              "<Figure size 432x288 with 1 Axes>"
            ]
          },
          "metadata": {
            "tags": [],
            "needs_background": "light"
          }
        }
      ]
    },
    {
      "cell_type": "code",
      "metadata": {
        "colab": {
          "base_uri": "https://localhost:8080/",
          "height": 478
        },
        "id": "fnq917TnXmny",
        "outputId": "8d86e3cf-c183-4e50-9c5f-24360f1df67f"
      },
      "source": [
        "x = sm.add_constant(x1)\n",
        "results = sm.OLS(y, x).fit()\n",
        "results.summary()"
      ],
      "execution_count": null,
      "outputs": [
        {
          "output_type": "execute_result",
          "data": {
            "text/html": [
              "<table class=\"simpletable\">\n",
              "<caption>OLS Regression Results</caption>\n",
              "<tr>\n",
              "  <th>Dep. Variable:</th>      <td>Winding temp</td>   <th>  R-squared:         </th> <td>   0.525</td> \n",
              "</tr>\n",
              "<tr>\n",
              "  <th>Model:</th>                   <td>OLS</td>       <th>  Adj. R-squared:    </th> <td>   0.525</td> \n",
              "</tr>\n",
              "<tr>\n",
              "  <th>Method:</th>             <td>Least Squares</td>  <th>  F-statistic:       </th> <td>   5757.</td> \n",
              "</tr>\n",
              "<tr>\n",
              "  <th>Date:</th>             <td>Sat, 05 Jun 2021</td> <th>  Prob (F-statistic):</th>  <td>  0.00</td>  \n",
              "</tr>\n",
              "<tr>\n",
              "  <th>Time:</th>                 <td>18:35:52</td>     <th>  Log-Likelihood:    </th> <td> -13999.</td> \n",
              "</tr>\n",
              "<tr>\n",
              "  <th>No. Observations:</th>      <td>  5208</td>      <th>  AIC:               </th> <td>2.800e+04</td>\n",
              "</tr>\n",
              "<tr>\n",
              "  <th>Df Residuals:</th>          <td>  5206</td>      <th>  BIC:               </th> <td>2.802e+04</td>\n",
              "</tr>\n",
              "<tr>\n",
              "  <th>Df Model:</th>              <td>     1</td>      <th>                     </th>     <td> </td>    \n",
              "</tr>\n",
              "<tr>\n",
              "  <th>Covariance Type:</th>      <td>nonrobust</td>    <th>                     </th>     <td> </td>    \n",
              "</tr>\n",
              "</table>\n",
              "<table class=\"simpletable\">\n",
              "<tr>\n",
              "      <td></td>        <th>coef</th>     <th>std err</th>      <th>t</th>      <th>P>|t|</th>  <th>[0.025</th>    <th>0.975]</th>  \n",
              "</tr>\n",
              "<tr>\n",
              "  <th>const</th>    <td>   13.1297</td> <td>    0.813</td> <td>   16.144</td> <td> 0.000</td> <td>   11.535</td> <td>   14.724</td>\n",
              "</tr>\n",
              "<tr>\n",
              "  <th>RGC Amps</th> <td>    0.0982</td> <td>    0.001</td> <td>   75.876</td> <td> 0.000</td> <td>    0.096</td> <td>    0.101</td>\n",
              "</tr>\n",
              "</table>\n",
              "<table class=\"simpletable\">\n",
              "<tr>\n",
              "  <th>Omnibus:</th>       <td>720.018</td> <th>  Durbin-Watson:     </th> <td>   0.094</td> \n",
              "</tr>\n",
              "<tr>\n",
              "  <th>Prob(Omnibus):</th> <td> 0.000</td>  <th>  Jarque-Bera (JB):  </th> <td>1263.974</td> \n",
              "</tr>\n",
              "<tr>\n",
              "  <th>Skew:</th>          <td> 0.907</td>  <th>  Prob(JB):          </th> <td>3.40e-275</td>\n",
              "</tr>\n",
              "<tr>\n",
              "  <th>Kurtosis:</th>      <td> 4.591</td>  <th>  Cond. No.          </th> <td>1.04e+04</td> \n",
              "</tr>\n",
              "</table><br/><br/>Warnings:<br/>[1] Standard Errors assume that the covariance matrix of the errors is correctly specified.<br/>[2] The condition number is large, 1.04e+04. This might indicate that there are<br/>strong multicollinearity or other numerical problems."
            ],
            "text/plain": [
              "<class 'statsmodels.iolib.summary.Summary'>\n",
              "\"\"\"\n",
              "                            OLS Regression Results                            \n",
              "==============================================================================\n",
              "Dep. Variable:           Winding temp   R-squared:                       0.525\n",
              "Model:                            OLS   Adj. R-squared:                  0.525\n",
              "Method:                 Least Squares   F-statistic:                     5757.\n",
              "Date:                Sat, 05 Jun 2021   Prob (F-statistic):               0.00\n",
              "Time:                        18:35:52   Log-Likelihood:                -13999.\n",
              "No. Observations:                5208   AIC:                         2.800e+04\n",
              "Df Residuals:                    5206   BIC:                         2.802e+04\n",
              "Df Model:                           1                                         \n",
              "Covariance Type:            nonrobust                                         \n",
              "==============================================================================\n",
              "                 coef    std err          t      P>|t|      [0.025      0.975]\n",
              "------------------------------------------------------------------------------\n",
              "const         13.1297      0.813     16.144      0.000      11.535      14.724\n",
              "RGC Amps       0.0982      0.001     75.876      0.000       0.096       0.101\n",
              "==============================================================================\n",
              "Omnibus:                      720.018   Durbin-Watson:                   0.094\n",
              "Prob(Omnibus):                  0.000   Jarque-Bera (JB):             1263.974\n",
              "Skew:                           0.907   Prob(JB):                    3.40e-275\n",
              "Kurtosis:                       4.591   Cond. No.                     1.04e+04\n",
              "==============================================================================\n",
              "\n",
              "Warnings:\n",
              "[1] Standard Errors assume that the covariance matrix of the errors is correctly specified.\n",
              "[2] The condition number is large, 1.04e+04. This might indicate that there are\n",
              "strong multicollinearity or other numerical problems.\n",
              "\"\"\""
            ]
          },
          "metadata": {
            "tags": []
          },
          "execution_count": 7
        }
      ]
    },
    {
      "cell_type": "code",
      "metadata": {
        "colab": {
          "base_uri": "https://localhost:8080/",
          "height": 282
        },
        "id": "VHoLeuiEn1ot",
        "outputId": "4aa3473f-cd4c-4c96-a43e-cd64ebf58464"
      },
      "source": [
        "plt.scatter(x1, y)\n",
        "yhat = 0.0982*x1 + 13.1297\n",
        "fig = plt.plot(x1, yhat, c = 'red', lw = 4, label = 'Regression line')\n",
        "plt.xlabel('RGC Amps', fontsize = 10)\n",
        "plt.ylabel('Winding temp', fontsize = 10)\n",
        "plt.show()"
      ],
      "execution_count": null,
      "outputs": [
        {
          "output_type": "display_data",
          "data": {
            "image/png": "[encoded data removed]",
            "text/plain": [
              "<Figure size 432x288 with 1 Axes>"
            ]
          },
          "metadata": {
            "tags": [],
            "needs_background": "light"
          }
        }
      ]
    },
    {
      "cell_type": "code",
      "metadata": {
        "id": "z-5ZVGL9eFe-",
        "colab": {
          "base_uri": "https://localhost:8080/"
        },
        "outputId": "18933dfe-2f6b-4495-d619-1b1a0b409ee3"
      },
      "source": [
        "0.0982*590+13.1297"
      ],
      "execution_count": null,
      "outputs": [
        {
          "output_type": "execute_result",
          "data": {
            "text/plain": [
              "71.0677"
            ]
          },
          "metadata": {
            "tags": []
          },
          "execution_count": 1
        }
      ]
    }
  ]
}